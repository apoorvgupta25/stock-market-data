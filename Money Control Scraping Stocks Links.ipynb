{
 "cells": [
  {
   "cell_type": "code",
   "execution_count": 1,
   "id": "apparent-brake",
   "metadata": {},
   "outputs": [],
   "source": [
    "import pandas as pd\n",
    "import requests\n",
    "\n",
    "from bs4 import BeautifulSoup\n",
    "import string"
   ]
  },
  {
   "cell_type": "code",
   "execution_count": 2,
   "id": "marine-router",
   "metadata": {},
   "outputs": [],
   "source": [
    "search = list(string.ascii_uppercase)\n",
    "search.append('others')"
   ]
  },
  {
   "cell_type": "code",
   "execution_count": 3,
   "id": "derived-antenna",
   "metadata": {},
   "outputs": [],
   "source": [
    "all_stocks = []\n",
    "link_to_stocks = []\n",
    "\n",
    "for s in search:\n",
    "    link = f'https://www.moneycontrol.com/india/stockpricequote/{s}'\n",
    "\n",
    "    r = requests.get(link)\n",
    "\n",
    "    soup = BeautifulSoup(r.content, 'html.parser', from_encoding=\"iso-8859-1\")\n",
    "\n",
    "    aside_price = soup.find_all('a', {'class': 'bl_12'})\n",
    "\n",
    "    for con in aside_price:\n",
    "        link_to_stocks.append(con.get('href', None))\n",
    "        all_stocks.append(con.text.strip())"
   ]
  },
  {
   "cell_type": "code",
   "execution_count": 4,
   "id": "narrow-legend",
   "metadata": {},
   "outputs": [],
   "source": [
    "df = pd.DataFrame({'stock': all_stocks,\n",
    "                 'link': link_to_stocks})"
   ]
  },
  {
   "cell_type": "code",
   "execution_count": 5,
   "id": "specific-edmonton",
   "metadata": {},
   "outputs": [],
   "source": [
    "df = df[df['stock'].astype(bool)]   # remove empty stocks"
   ]
  },
  {
   "cell_type": "code",
   "execution_count": 6,
   "id": "satellite-adoption",
   "metadata": {},
   "outputs": [
    {
     "data": {
      "text/html": [
       "<div>\n",
       "<style scoped>\n",
       "    .dataframe tbody tr th:only-of-type {\n",
       "        vertical-align: middle;\n",
       "    }\n",
       "\n",
       "    .dataframe tbody tr th {\n",
       "        vertical-align: top;\n",
       "    }\n",
       "\n",
       "    .dataframe thead th {\n",
       "        text-align: right;\n",
       "    }\n",
       "</style>\n",
       "<table border=\"1\" class=\"dataframe\">\n",
       "  <thead>\n",
       "    <tr style=\"text-align: right;\">\n",
       "      <th></th>\n",
       "      <th>stock</th>\n",
       "      <th>link</th>\n",
       "    </tr>\n",
       "  </thead>\n",
       "  <tbody>\n",
       "    <tr>\n",
       "      <th>0</th>\n",
       "      <td>A &amp; M Febcon</td>\n",
       "      <td>https://www.moneycontrol.com/india/stockpriceq...</td>\n",
       "    </tr>\n",
       "    <tr>\n",
       "      <th>1</th>\n",
       "      <td>A and M Jumbo B</td>\n",
       "      <td>https://www.moneycontrol.com/india/stockpriceq...</td>\n",
       "    </tr>\n",
       "    <tr>\n",
       "      <th>2</th>\n",
       "      <td>A B Infrabuild</td>\n",
       "      <td>https://www.moneycontrol.com/india/stockpriceq...</td>\n",
       "    </tr>\n",
       "    <tr>\n",
       "      <th>3</th>\n",
       "      <td>A F Ent</td>\n",
       "      <td>https://www.moneycontrol.com/india/stockpriceq...</td>\n",
       "    </tr>\n",
       "    <tr>\n",
       "      <th>4</th>\n",
       "      <td>A Infra.</td>\n",
       "      <td>https://www.moneycontrol.com/india/stockpriceq...</td>\n",
       "    </tr>\n",
       "  </tbody>\n",
       "</table>\n",
       "</div>"
      ],
      "text/plain": [
       "             stock                                               link\n",
       "0     A & M Febcon  https://www.moneycontrol.com/india/stockpriceq...\n",
       "1  A and M Jumbo B  https://www.moneycontrol.com/india/stockpriceq...\n",
       "2   A B Infrabuild  https://www.moneycontrol.com/india/stockpriceq...\n",
       "3          A F Ent  https://www.moneycontrol.com/india/stockpriceq...\n",
       "4         A Infra.  https://www.moneycontrol.com/india/stockpriceq..."
      ]
     },
     "execution_count": 6,
     "metadata": {},
     "output_type": "execute_result"
    }
   ],
   "source": [
    "df.head()"
   ]
  },
  {
   "cell_type": "code",
   "execution_count": 7,
   "id": "complete-chassis",
   "metadata": {},
   "outputs": [],
   "source": [
    "df.to_csv('stocks.csv', index=False)"
   ]
  },
  {
   "cell_type": "code",
   "execution_count": 8,
   "id": "offshore-coffee",
   "metadata": {},
   "outputs": [],
   "source": [
    "new_df = pd.read_csv('stocks.csv')"
   ]
  }
 ],
 "metadata": {
  "kernelspec": {
   "display_name": "Python 3",
   "language": "python",
   "name": "python3"
  },
  "language_info": {
   "codemirror_mode": {
    "name": "ipython",
    "version": 3
   },
   "file_extension": ".py",
   "mimetype": "text/x-python",
   "name": "python",
   "nbconvert_exporter": "python",
   "pygments_lexer": "ipython3",
   "version": "3.8.8"
  }
 },
 "nbformat": 4,
 "nbformat_minor": 5
}
