{
 "cells": [
  {
   "cell_type": "code",
   "execution_count": null,
   "id": "european-kansas",
   "metadata": {},
   "outputs": [],
   "source": [
    "import pandas as pd\n",
    "import requests\n",
    "\n",
    "import numpy as np\n",
    "\n",
    "from bs4 import BeautifulSoup"
   ]
  },
  {
   "cell_type": "code",
   "execution_count": null,
   "id": "sought-opening",
   "metadata": {},
   "outputs": [],
   "source": [
    "stocks_links = pd.read_csv('stocks.csv')"
   ]
  },
  {
   "cell_type": "code",
   "execution_count": null,
   "id": "executed-criterion",
   "metadata": {
    "scrolled": true
   },
   "outputs": [],
   "source": [
    "stocks_links.head()"
   ]
  },
  {
   "cell_type": "code",
   "execution_count": null,
   "id": "blind-proceeding",
   "metadata": {},
   "outputs": [],
   "source": [
    "names = []\n",
    "links = []\n",
    "ul_sector = []\n",
    "strong_sector = []\n",
    "last_updated = []"
   ]
  },
  {
   "cell_type": "code",
   "execution_count": null,
   "id": "breeding-advantage",
   "metadata": {
    "scrolled": true
   },
   "outputs": [],
   "source": [
    "# link = f'https://www.moneycontrol.com/india/stockpricequote/finance-investments/20thcenturyfinancecorporation/20C'\n",
    "\n",
    "for i in range(len(stocks_links)):\n",
    "    \n",
    "    name = stocks_links.iloc[i, 0]\n",
    "\n",
    "    link = stocks_links.iloc[i, 1]\n",
    "    \n",
    "    r = requests.get(link)\n",
    "\n",
    "    soup = BeautifulSoup(r.content, 'html.parser', from_encoding=\"iso-8859-1\")\n",
    "\n",
    "    try:\n",
    "        ul_cat = soup.find_all('ul', {'class': 'bred_list'})\n",
    "        ul_sector.append(ul_cat[0].text.split('\\n')[4])\n",
    "    except:\n",
    "        ul_sector.append(name)\n",
    "        \n",
    "    try:\n",
    "        strong_cat = soup.find_all('strong')\n",
    "        strong_sector.append(strong_cat[0].text.strip())\n",
    "    except:\n",
    "        strong_sector.append(name)\n",
    "       \n",
    "    try:\n",
    "\n",
    "        date_soup = soup.find_all('p', {'class': 'bseasondate'})\n",
    "        last_updated.append(date_soup[0].text)\n",
    "    except:\n",
    "        last_updated.append('As on 31 Dec, 1900 | 11:22 ')\n",
    "    \n",
    "    links.append(link)\n",
    "    names.append(name)\n",
    "    \n",
    "    print(i, name)"
   ]
  },
  {
   "cell_type": "code",
   "execution_count": null,
   "id": "graphic-luxembourg",
   "metadata": {},
   "outputs": [],
   "source": [
    "print(len(names))\n",
    "print(len(links))\n",
    "print(len(ul_sector))\n",
    "print(len(strong_sector))\n",
    "print(len(last_updated))"
   ]
  },
  {
   "cell_type": "code",
   "execution_count": null,
   "id": "enhanced-armstrong",
   "metadata": {},
   "outputs": [],
   "source": [
    "df = pd.DataFrame({\n",
    "    'Company Name': pd.Series(names),\n",
    "    'Link': pd.Series(links),\n",
    "    'UL_Sector': pd.Series(ul_sector),\n",
    "    'Strong_Sector':pd.Series(strong_sector),\n",
    "    'Last Updated':pd.Series(last_updated)\n",
    "})"
   ]
  },
  {
   "cell_type": "code",
   "execution_count": null,
   "id": "expired-divide",
   "metadata": {},
   "outputs": [],
   "source": [
    "df.head()"
   ]
  },
  {
   "cell_type": "code",
   "execution_count": null,
   "id": "olympic-disabled",
   "metadata": {},
   "outputs": [],
   "source": [
    "df.replace(r'^\\s*$', np.nan, regex=True, inplace=True)"
   ]
  },
  {
   "cell_type": "code",
   "execution_count": null,
   "id": "transparent-harbor",
   "metadata": {
    "scrolled": false
   },
   "outputs": [],
   "source": [
    "df[df['UL_Sector'].str.strip().str.lower() != df['Strong_Sector'].str.strip().str.lower()]"
   ]
  },
  {
   "cell_type": "code",
   "execution_count": null,
   "id": "intimate-journey",
   "metadata": {},
   "outputs": [],
   "source": [
    "del df['Strong_Sector']"
   ]
  },
  {
   "cell_type": "code",
   "execution_count": null,
   "id": "metropolitan-enemy",
   "metadata": {},
   "outputs": [],
   "source": [
    "df.rename(columns={'UL_Sector':'Sector'}, inplace=True)"
   ]
  },
  {
   "cell_type": "code",
   "execution_count": null,
   "id": "regulated-virgin",
   "metadata": {},
   "outputs": [],
   "source": [
    "df"
   ]
  },
  {
   "cell_type": "code",
   "execution_count": null,
   "id": "wireless-tract",
   "metadata": {},
   "outputs": [],
   "source": []
  },
  {
   "cell_type": "code",
   "execution_count": null,
   "id": "competitive-theater",
   "metadata": {},
   "outputs": [],
   "source": [
    "df.to_csv('data/part10.csv', index=False)"
   ]
  },
  {
   "cell_type": "code",
   "execution_count": null,
   "id": "dated-dairy",
   "metadata": {},
   "outputs": [],
   "source": []
  }
 ],
 "metadata": {
  "kernelspec": {
   "display_name": "Python 3",
   "language": "python",
   "name": "python3"
  },
  "language_info": {
   "codemirror_mode": {
    "name": "ipython",
    "version": 3
   },
   "file_extension": ".py",
   "mimetype": "text/x-python",
   "name": "python",
   "nbconvert_exporter": "python",
   "pygments_lexer": "ipython3",
   "version": "3.8.10"
  }
 },
 "nbformat": 4,
 "nbformat_minor": 5
}
