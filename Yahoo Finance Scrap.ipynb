{
 "cells": [
  {
   "cell_type": "code",
   "execution_count": null,
   "id": "unexpected-encoding",
   "metadata": {},
   "outputs": [],
   "source": [
    "import pandas as pd\n",
    "import requests\n",
    "\n",
    "from bs4 import BeautifulSoup"
   ]
  },
  {
   "cell_type": "code",
   "execution_count": null,
   "id": "joint-fraction",
   "metadata": {},
   "outputs": [],
   "source": [
    "all_nse = pd.read_csv('all_nse_names.csv')\n",
    "all_nse['Symbol'] = all_nse['Symbol'] + '.NS'"
   ]
  },
  {
   "cell_type": "code",
   "execution_count": null,
   "id": "sticky-tobago",
   "metadata": {},
   "outputs": [],
   "source": [
    "all_nse.head()"
   ]
  },
  {
   "cell_type": "code",
   "execution_count": null,
   "id": "satisfied-attribute",
   "metadata": {},
   "outputs": [],
   "source": [
    "nse_symbols = all_nse['Symbol']"
   ]
  },
  {
   "cell_type": "code",
   "execution_count": null,
   "id": "coastal-experiment",
   "metadata": {},
   "outputs": [],
   "source": []
  },
  {
   "cell_type": "code",
   "execution_count": null,
   "id": "developing-connection",
   "metadata": {},
   "outputs": [],
   "source": [
    "names = []\n",
    "symbols = []\n",
    "sector = []\n",
    "industry = []"
   ]
  },
  {
   "cell_type": "code",
   "execution_count": null,
   "id": "central-potato",
   "metadata": {},
   "outputs": [],
   "source": []
  },
  {
   "cell_type": "code",
   "execution_count": null,
   "id": "religious-variable",
   "metadata": {
    "scrolled": true
   },
   "outputs": [],
   "source": [
    "c = 0\n",
    "for nse_symbol in nse_symbols:\n",
    "    c += 1\n",
    "    print(c, nse_symbol)\n",
    "    \n",
    "    link = f'https://finance.yahoo.com/quote/{nse_symbol}/profile'\n",
    "\n",
    "    r = requests.get(link)\n",
    "\n",
    "    soup = BeautifulSoup(r.content, 'html.parser', from_encoding=\"iso-8859-1\")\n",
    "\n",
    "    name_soup = soup.find_all('h1', {'class': 'D(ib) Fz(18px)'})\n",
    "\n",
    "    if len(name_soup) > 0:\n",
    "\n",
    "        for con in name_soup:\n",
    "            names.append(con.text.split('(')[0])\n",
    "            symbols.append(con.text.split('(')[-1].split(')')[0])\n",
    "\n",
    "        try:\n",
    "            span_soup = soup.find_all('span', {'class': 'Fw(600)'})\n",
    "            \n",
    "            sector.append(span_soup[0].text)\n",
    "            industry.append(span_soup[1].text)\n",
    "\n",
    "        except Exception as e:\n",
    "            # profile not found\n",
    "            sector.append(nse_symbol)\n",
    "            industry.append(nse_symbol)\n",
    "            print('sector',str(e))\n",
    "    else :\n",
    "        # stock not found\n",
    "        names.append(nse_symbol)\n",
    "        symbols.append(nse_symbol)\n",
    "        sector.append(nse_symbol)\n",
    "        industry.append(nse_symbol)"
   ]
  },
  {
   "cell_type": "code",
   "execution_count": null,
   "id": "buried-boards",
   "metadata": {},
   "outputs": [],
   "source": []
  },
  {
   "cell_type": "code",
   "execution_count": null,
   "id": "lasting-duration",
   "metadata": {},
   "outputs": [],
   "source": []
  },
  {
   "cell_type": "code",
   "execution_count": null,
   "id": "subsequent-namibia",
   "metadata": {},
   "outputs": [],
   "source": [
    "# add following separately\n",
    "remaining = ['RTNINDIA.NS', 'VIKASLIFE.NS', 'BBTCL-SM.NS']"
   ]
  },
  {
   "cell_type": "code",
   "execution_count": null,
   "id": "meaningful-african",
   "metadata": {},
   "outputs": [],
   "source": [
    "remaining"
   ]
  },
  {
   "cell_type": "code",
   "execution_count": null,
   "id": "guided-compression",
   "metadata": {},
   "outputs": [],
   "source": []
  },
  {
   "cell_type": "code",
   "execution_count": null,
   "id": "monetary-resistance",
   "metadata": {},
   "outputs": [],
   "source": [
    "df = pd.DataFrame({\n",
    "    'Name': pd.Series(names),\n",
    "    'Symbol': pd.Series(symbols),\n",
    "    'Sector': pd.Series(sector),\n",
    "    'Industry': pd.Series(industry),\n",
    "})"
   ]
  },
  {
   "cell_type": "code",
   "execution_count": null,
   "id": "nuclear-camel",
   "metadata": {},
   "outputs": [],
   "source": [
    "df['Industry'] = df['Industry'].str.replace(u'â\\x80\\x94', u'-')"
   ]
  },
  {
   "cell_type": "code",
   "execution_count": null,
   "id": "attended-falls",
   "metadata": {
    "scrolled": true
   },
   "outputs": [],
   "source": [
    "df.head()"
   ]
  },
  {
   "cell_type": "code",
   "execution_count": null,
   "id": "decreased-ballet",
   "metadata": {},
   "outputs": [],
   "source": []
  },
  {
   "cell_type": "code",
   "execution_count": null,
   "id": "spare-arbor",
   "metadata": {},
   "outputs": [],
   "source": [
    "df.to_csv('data/batch11.csv', index=False)"
   ]
  }
 ],
 "metadata": {
  "kernelspec": {
   "display_name": "Python 3",
   "language": "python",
   "name": "python3"
  },
  "language_info": {
   "codemirror_mode": {
    "name": "ipython",
    "version": 3
   },
   "file_extension": ".py",
   "mimetype": "text/x-python",
   "name": "python",
   "nbconvert_exporter": "python",
   "pygments_lexer": "ipython3",
   "version": "3.8.10"
  }
 },
 "nbformat": 4,
 "nbformat_minor": 5
}
